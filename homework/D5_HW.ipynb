{
 "cells": [
  {
   "cell_type": "code",
   "execution_count": 50,
   "metadata": {},
   "outputs": [
    {
     "name": "stdout",
     "output_type": "stream",
     "text": [
      "[ 1  2 -3 -4 -5 -6  7  8  9 10 11]\n"
     ]
    }
   ],
   "source": [
    "#基礎級  1.產生一個 1-11 的一維陣列，並且把 3-6 由正數變成負數。\n",
    "import numpy as np\n",
    "a = np.arange(1,12)\n",
    "# b = np.array([0,0,-6,-8,-10,-12,0,0,0,0,0])\n",
    "a[(a>2) & (a<=6)] = a[2:6]*-1\n",
    "\n",
    "print(a)\n"
   ]
  },
  {
   "cell_type": "code",
   "execution_count": 11,
   "metadata": {},
   "outputs": [
    {
     "name": "stdout",
     "output_type": "stream",
     "text": [
      "[0.99348226 0.67105858 0.58704714 0.59718058 0.98730996 0.84317314\n",
      " 0.59926026 0.97192244]\n",
      "18\n"
     ]
    }
   ],
   "source": [
    "#基礎級  2.試著從一個隨機陣列中，找出比 0.5 大的數有幾個？\n",
    "import numpy as np\n",
    "A = np.random.rand(3, 6)\n",
    "print(A[A>0.5])\n",
    "print(np.size(A>0.5))"
   ]
  },
  {
   "cell_type": "code",
   "execution_count": 53,
   "metadata": {},
   "outputs": [
    {
     "name": "stdout",
     "output_type": "stream",
     "text": [
      "英文平均 67.16666666666667 最大值 89 最小值 48 標準差 13.433995020924426\n",
      "數學平均 66.6 最大值 85.0 最小值 60.0 標準差 9.707728879609279\n",
      "中文平均 75.33333333333333 最大值 90 最小值 65 標準差 8.825468196582484\n",
      "數學平均: 64.66666666666667\n",
      "最大值: 85.0\n",
      "最小值: 55.0\n",
      "標準差: 9.860132971832694\n"
     ]
    }
   ],
   "source": [
    "english_score = np.array([55,89,76,65,48,70])\n",
    "math_score = np.array([60,85,60,68,np.nan,60])\n",
    "chinese_score = np.array([65,90,82,72,66,77])\n",
    "\n",
    "# 上3列共六位同學的英文、數學、國文成績，第一個元素代表第一位同學，舉例第一位同學英文55分、數學60分、國文65分，運用上列數據回答下列問題。\n",
    "import numpy as np\n",
    "# 1.請計算各科成績平均、最大值、最小值、標準差，其中數學缺一筆資料可忽略?\n",
    "print('英文平均',english_score.mean(),\n",
    "     '最大值',english_score.max(),\n",
    "     '最小值',english_score.min(),\n",
    "     '標準差',english_score.std())\n",
    "print('數學平均',np.nanmean(math_score),\n",
    "     '最大值',np.nanmax(math_score),\n",
    "     '最小值',np.nanmin(math_score),\n",
    "     '標準差',np.nanstd(math_score))\n",
    "print('中文平均',chinese_score.mean(),\n",
    "     '最大值',chinese_score.max(),\n",
    "     '最小值',chinese_score.min(),\n",
    "     '標準差',chinese_score.std())\n",
    "\n",
    "\n",
    "# all = np.vstack((english_score, math_score, chinese_score))\n",
    "# np.nanmean(all, axis=1)"
   ]
  },
  {
   "cell_type": "code",
   "execution_count": 54,
   "metadata": {},
   "outputs": [
    {
     "name": "stdout",
     "output_type": "stream",
     "text": [
      "數學平均: 64.66666666666667\n",
      "最大值: 85.0\n",
      "最小值: 55.0\n",
      "標準差: 9.860132971832694\n"
     ]
    }
   ],
   "source": [
    "english_score = np.array([55,89,76,65,48,70])\n",
    "math_score = np.array([60,85,60,68,np.nan,60])\n",
    "chinese_score = np.array([65,90,82,72,66,77])\n",
    "\n",
    "\n",
    "#2. 第五位同學補考數學後成績為55，請計算補考後數學成績平均、最大值、最小值、標準差?\n",
    "import numpy as np\n",
    "math_score[4] = 55\n",
    "\n",
    "print(\"數學平均:\",np.mean(math_score))\n",
    "print(\"最大值:\",np.max(math_score))\n",
    "print(\"最小值:\",np.min(math_score))\n",
    "print(\"標準差:\",np.std(math_score))"
   ]
  },
  {
   "cell_type": "code",
   "execution_count": 58,
   "metadata": {},
   "outputs": [
    {
     "name": "stdout",
     "output_type": "stream",
     "text": [
      "[[1.         0.97792828]\n",
      " [0.97792828 1.        ]] [[1.         0.74056803]\n",
      " [0.74056803 1.        ]]\n"
     ]
    }
   ],
   "source": [
    "english_score = np.array([55,89,76,65,48,70])\n",
    "math_score = np.array([60,85,60,68,55,60])\n",
    "chinese_score = np.array([65,90,82,72,66,77])\n",
    "\n",
    "# 3.是否全班同學最高分都是國文?\n",
    "#3. 用補考後資料找出與國文成績相關係數最高的學科?\n",
    "import numpy as np\n",
    "a =np.corrcoef([chinese_score,english_score])\n",
    "b =np.corrcoef([chinese_score,math_score])\n",
    "print(a,b)\n",
    "\n",
    "\n",
    "#與國文成績相關係數最高的學科是 英文\n",
    "\n",
    "\n"
   ]
  }
 ],
 "metadata": {
  "kernelspec": {
   "display_name": "Python 3",
   "language": "python",
   "name": "python3"
  },
  "language_info": {
   "codemirror_mode": {
    "name": "ipython",
    "version": 3
   },
   "file_extension": ".py",
   "mimetype": "text/x-python",
   "name": "python",
   "nbconvert_exporter": "python",
   "pygments_lexer": "ipython3",
   "version": "3.8.5"
  }
 },
 "nbformat": 4,
 "nbformat_minor": 4
}
