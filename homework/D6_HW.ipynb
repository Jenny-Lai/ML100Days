{
 "cells": [
  {
   "cell_type": "code",
   "execution_count": 8,
   "metadata": {},
   "outputs": [
    {
     "name": "stdout",
     "output_type": "stream",
     "text": [
      "[ 0  1  2  3  4  5  6  7  8  9 10 11]\n",
      "66\n",
      "int32\n",
      "66\n",
      "int32\n",
      "66\n",
      "int32\n"
     ]
    }
   ],
   "source": [
    "#[簡答題] 請問下列這三種方法有什麼不同？\n",
    "import numpy as np\n",
    "a = np.arange(12)\n",
    "print(a)\n",
    "print(a.sum())\n",
    "print(a.sum().dtype)\n",
    "print(np.sum(a))\n",
    "print(np.sum(a).dtype)\n",
    "print(sum(a)) \n",
    "print(sum(a).dtype)\n",
    "#答案一模一樣\n"
   ]
  },
  {
   "cell_type": "code",
   "execution_count": 14,
   "metadata": {},
   "outputs": [
    {
     "name": "stdout",
     "output_type": "stream",
     "text": [
      "[[0.61282317 0.4096337  0.38163002 0.17239603 0.58263454]\n",
      " [0.66481769 0.60853014 0.46002493 0.62286169 0.49437488]\n",
      " [0.21667134 0.35469789 0.57483467 0.02412391 0.27922621]\n",
      " [0.06435108 0.89782611 0.97843441 0.83749302 0.75505372]\n",
      " [0.73272683 0.84961652 0.75585081 0.70732853 0.6698137 ]]\n",
      "\n",
      "Normalization:\n",
      "[[0.6168844  0.40396683 0.37462243 0.15537094 0.58525043]\n",
      " [0.67136826 0.61238583 0.45677064 0.62740354 0.49276516]\n",
      " [0.20176601 0.34640086 0.57707713 0.         0.26731583]\n",
      " [0.04215312 0.91553242 1.         0.85231076 0.76592453]\n",
      " [0.74252869 0.8650147  0.76675977 0.71591439 0.67660347]]\n"
     ]
    }
   ],
   "source": [
    "#請對一個 5x5 的隨機矩陣作正規化的操作。\n",
    "import numpy as np\n",
    "a = np.random.random((5, 5)) \n",
    "print(a)\n",
    "# normalize到0 ~ 1的區間\n",
    "a = (a - a.min()) / (a.max() - a.min())\n",
    "print(\"\\nNormalization:\")\n",
    "print(a)\n"
   ]
  },
  {
   "cell_type": "code",
   "execution_count": 19,
   "metadata": {},
   "outputs": [
    {
     "name": "stdout",
     "output_type": "stream",
     "text": [
      "[0 1 2 3 4 5 6 7 8 9]\n",
      "[ 0  1  2  3  4  5  6  7  8 -1]\n"
     ]
    }
   ],
   "source": [
    "#請建立一個長度等於 10 的正整數向量，並且將其中的最大值改成 -1。\n",
    "import numpy as np\n",
    "a = np.arange(10)\n",
    "print(a)\n",
    "a[a.max()]=-1\n",
    "#a[a.argmax()] = -1\n",
    "print(a)"
   ]
  }
 ],
 "metadata": {
  "kernelspec": {
   "display_name": "Python 3",
   "language": "python",
   "name": "python3"
  },
  "language_info": {
   "codemirror_mode": {
    "name": "ipython",
    "version": 3
   },
   "file_extension": ".py",
   "mimetype": "text/x-python",
   "name": "python",
   "nbconvert_exporter": "python",
   "pygments_lexer": "ipython3",
   "version": "3.8.5"
  }
 },
 "nbformat": 4,
 "nbformat_minor": 4
}
