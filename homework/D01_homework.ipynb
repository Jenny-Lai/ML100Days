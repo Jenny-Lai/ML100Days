{
 "cells": [
  {
   "cell_type": "code",
   "execution_count": 16,
   "metadata": {},
   "outputs": [
    {
     "name": "stdout",
     "output_type": "stream",
     "text": [
      "[ 0  1  2  3  4  5  6  7  8  9 10 11 12 13 14 15 16 17 18 19]\n",
      "[ 0  2  4  6  8 10 12 14 16 18]\n",
      "[ 0  3  6  9 12 15 18]\n",
      "list(b):  [0, 1, 2, 3, 4, 5, 6, 7, 8, 9, 10, 11, 12, 13, 14, 15, 16, 17, 18, 19]\n",
      "b.tolist() [0, 1, 2, 3, 4, 5, 6, 7, 8, 9, 10, 11, 12, 13, 14, 15, 16, 17, 18, 19]\n"
     ]
    }
   ],
   "source": [
    "#生成一個等差數列，首數為0，尾數為20，公差為1的數列。\n",
    "import numpy as np\n",
    "b = np.arange(20)\n",
    "print(b)\n",
    "\n",
    "#呈上題，將以上數列取出偶數。\n",
    "b = np.arange(0,20,2)\n",
    "print(b)\n",
    "\n",
    "#呈1題，將數列取出3的倍數。\n",
    "b = np.arange(0,20,3)\n",
    "print(b)\n",
    "\n",
    "#[簡答題] 請問下列兩種將 Array 轉換成 List 的方式有何不同？\n",
    "b = np.arange(20)\n",
    "print('list(b): ', list(b))\n",
    "print('b.tolist()',b.tolist())"
   ]
  },
  {
   "cell_type": "code",
   "execution_count": 20,
   "metadata": {},
   "outputs": [
    {
     "name": "stdout",
     "output_type": "stream",
     "text": [
      "list(c):  [array([0, 1, 2, 3, 4]), array([5, 6, 7, 8, 9]), array([10, 11, 12, 13, 14])]\n",
      "c.tolist() [[0, 1, 2, 3, 4], [5, 6, 7, 8, 9], [10, 11, 12, 13, 14]]\n",
      "答:畫面看起來不一樣\n"
     ]
    }
   ],
   "source": [
    "#[簡答題] 請問下列兩種將 Array 轉換成 List 的方式有何不同？\n",
    "c = np.arange(15).reshape([3,5])\n",
    "print('list(c): ', list(c))\n",
    "print('c.tolist()',c.tolist())\n",
    "print('答:畫面看起來不一樣')"
   ]
  },
  {
   "cell_type": "code",
   "execution_count": 33,
   "metadata": {},
   "outputs": [
    {
     "name": "stdout",
     "output_type": "stream",
     "text": [
      "[0 1 2 3 4 5]\n",
      "1\n",
      "(6,)\n",
      "6\n",
      "int32\n",
      "4\n",
      "<memory at 0x00000214E254ADC0>\n",
      "_____________\n",
      "[[0 1 2]\n",
      " [3 4 5]]\n",
      "2\n",
      "(2, 3)\n",
      "6\n",
      "int32\n",
      "4\n",
      "<memory at 0x00000214E35B9040>\n",
      "_____________\n",
      "[[[ 0  1  2  3]\n",
      "  [ 4  5  6  7]\n",
      "  [ 8  9 10 11]]\n",
      "\n",
      " [[12 13 14 15]\n",
      "  [16 17 18 19]\n",
      "  [20 21 22 23]]]\n",
      "3\n",
      "(2, 3, 4)\n",
      "24\n",
      "int32\n",
      "4\n",
      "<memory at 0x00000214E2473E50>\n"
     ]
    }
   ],
   "source": [
    "#請試著在程式中印出以下三個 NdArray 的屬性？（屬性：ndim、shape、size、dtype、itemsize、length、type）\n",
    "a = np.array([0,1,2,3,4,5])\n",
    "b = np.arange(6).reshape([2,3])\n",
    "c = np.arange(24).reshape([2,3,4])\n",
    "print(a)\n",
    "print(a.ndim)\n",
    "print(a.shape)\n",
    "print(a.size)\n",
    "print(a.dtype)\n",
    "print(a.itemsize)\n",
    "print(a.data)\n",
    "print(\"_____________\")\n",
    "print(b)\n",
    "print(b.ndim)\n",
    "print(b.shape)\n",
    "print(b.size)\n",
    "print(b.dtype)\n",
    "print(b.itemsize)\n",
    "print(b.data)\n",
    "print(\"_____________\")\n",
    "print(c)\n",
    "print(c.ndim)\n",
    "print(c.shape)\n",
    "print(c.size)\n",
    "print(c.dtype)\n",
    "print(c.itemsize)\n",
    "print(c.data)"
   ]
  },
  {
   "cell_type": "code",
   "execution_count": 34,
   "metadata": {},
   "outputs": [
    {
     "name": "stdout",
     "output_type": "stream",
     "text": [
      "[0, 5, 2, 0, 3, 6]\n",
      "[0, 5, 2, 0, 3, 6]\n",
      "[[4, 1, 4, 7], [2, 5, 8, 8], [5, 4, 0, 9]]\n",
      "[array([4, 1, 4, 7]), array([2, 5, 8, 8]), array([5, 4, 0, 9])]\n",
      "[[[3, 6], [4, 3], [0, 8]], [[3, 1], [4, 9], [4, 0]]]\n",
      "[array([[3, 6],\n",
      "       [4, 3],\n",
      "       [0, 8]]), array([[3, 1],\n",
      "       [4, 9],\n",
      "       [4, 0]])]\n"
     ]
    }
   ],
   "source": [
    "#如何利用 list(...) 實現 a.tolist() 的效果？試著用程式實作。\n",
    "a = np.random.randint(10, size=6) \n",
    "print(a.tolist())\n",
    "print(list(a))\n",
    "\n",
    "b = np.random.randint(10, size=(3,4)) \n",
    "print(b.tolist())\n",
    "print(list(b))\n",
    "\n",
    "c = np.random.randint(10, size=(2,3,2)) \n",
    "print(c.tolist())\n",
    "print(list(c))"
   ]
  }
 ],
 "metadata": {
  "kernelspec": {
   "display_name": "Python 3",
   "language": "python",
   "name": "python3"
  },
  "language_info": {
   "codemirror_mode": {
    "name": "ipython",
    "version": 3
   },
   "file_extension": ".py",
   "mimetype": "text/x-python",
   "name": "python",
   "nbconvert_exporter": "python",
   "pygments_lexer": "ipython3",
   "version": "3.8.5"
  }
 },
 "nbformat": 4,
 "nbformat_minor": 4
}
