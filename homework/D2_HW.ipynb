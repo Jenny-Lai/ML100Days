{
 "cells": [
  {
   "cell_type": "code",
   "execution_count": 47,
   "metadata": {},
   "outputs": [
    {
     "name": "stdout",
     "output_type": "stream",
     "text": [
      "[[ 0  1  2]\n",
      " [ 3  4  5]\n",
      " [ 6  7  8]\n",
      " [ 9 10 11]\n",
      " [12 13 14]\n",
      " [15 16 17]]\n",
      "<class 'numpy.ndarray'>\n",
      "int32\n",
      "True\n",
      "False\n",
      "False\n",
      "True\n",
      "False\n",
      "True\n"
     ]
    },
    {
     "name": "stderr",
     "output_type": "stream",
     "text": [
      "<>:10: SyntaxWarning: \"is\" with a literal. Did you mean \"==\"?\n",
      "<>:10: SyntaxWarning: \"is\" with a literal. Did you mean \"==\"?\n",
      "<ipython-input-47-154a50121568>:10: SyntaxWarning: \"is\" with a literal. Did you mean \"==\"?\n",
      "  print(a.dtype is 'int32')\n"
     ]
    }
   ],
   "source": [
    "#[簡答題] 請問 type(...) 跟 a.dtype 這兩個語法有什麼不同？\n",
    "import numpy as np\n",
    "a = np.arange(18).reshape([6,3])\n",
    "print(a)\n",
    "print(type(a))\n",
    "print(a.dtype)      \n",
    "\n",
    "#請撰寫一個判斷 a 的元素是否等於指定資料型態的函式\n",
    "print(a.dtype == 'int32') \n",
    "print(a.dtype is 'int32') \n",
    "print(a.dtype is np.int32) \n",
    "print(a.dtype == 'int32') \n",
    "print(a.dtype == np.int64) \n",
    "print(a.dtype is np.dtype('int32'))"
   ]
  },
  {
   "cell_type": "code",
   "execution_count": 45,
   "metadata": {},
   "outputs": [
    {
     "name": "stdout",
     "output_type": "stream",
     "text": [
      "True\n",
      "False\n",
      "True\n"
     ]
    },
    {
     "name": "stderr",
     "output_type": "stream",
     "text": [
      "<>:10: SyntaxWarning: \"is\" with a literal. Did you mean \"==\"?\n",
      "<>:10: SyntaxWarning: \"is\" with a literal. Did you mean \"==\"?\n",
      "<ipython-input-45-790f03f6715d>:10: SyntaxWarning: \"is\" with a literal. Did you mean \"==\"?\n",
      "  print(a.dtype is 'int')\n"
     ]
    }
   ],
   "source": [
    "#[簡答題] 承上題，請判斷下列三種寫法為何不正確？\n",
    "def is_dtype(a, t):\n",
    "    return a.dtype is t\n",
    "\n",
    "def is_dtype(a, t):\n",
    "    return type(a) == np.dtype(t)\n",
    "\n",
    "def is_dtype(a, t):\n",
    "    return type(a) is np.dtype(t)\n",
    "print(a.dtype == int)\n",
    "print(a.dtype is 'int')\n",
    "print(a.dtype is np.dtype(int))"
   ]
  }
 ],
 "metadata": {
  "kernelspec": {
   "display_name": "Python 3",
   "language": "python",
   "name": "python3"
  },
  "language_info": {
   "codemirror_mode": {
    "name": "ipython",
    "version": 3
   },
   "file_extension": ".py",
   "mimetype": "text/x-python",
   "name": "python",
   "nbconvert_exporter": "python",
   "pygments_lexer": "ipython3",
   "version": "3.8.5"
  }
 },
 "nbformat": 4,
 "nbformat_minor": 4
}
