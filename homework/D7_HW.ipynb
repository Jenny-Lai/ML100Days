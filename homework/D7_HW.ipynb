{
 "cells": [
  {
   "cell_type": "code",
   "execution_count": null,
   "metadata": {},
   "outputs": [],
   "source": [
    "import numpy as np\n",
    "import timeit"
   ]
  },
  {
   "cell_type": "code",
   "execution_count": 27,
   "metadata": {},
   "outputs": [
    {
     "name": "stdout",
     "output_type": "stream",
     "text": [
      "The slowest run took 4.42 times longer than the fastest. This could mean that an intermediate result is being cached.\n",
      "610 ns ± 448 ns per loop (mean ± std. dev. of 7 runs, 10 loops each)\n",
      "6\n",
      "7\n"
     ]
    }
   ],
   "source": [
    "#請比較對一個 100 x 100 * 100 的陣列，使用不同方法對每一個元素 +1 的時間比較。\n",
    "import numpy as np\n",
    "import timeit\n",
    "Z = np.random.randint(0, 10, 1000000).reshape(100, 100, 100)\n",
    "#方法1:直接全部+1\n",
    "%timeit -n 10 a = 2\n",
    "\n",
    "Z_method1 = Z + 1\n",
    "\n",
    "print(Z[0,0,0])\n",
    "print(Z_method1[0,0,0])"
   ]
  },
  {
   "cell_type": "code",
   "execution_count": 28,
   "metadata": {},
   "outputs": [
    {
     "name": "stdout",
     "output_type": "stream",
     "text": [
      "407 ns ± 26.6 ns per loop (mean ± std. dev. of 7 runs, 10 loops each)\n",
      "6\n",
      "7\n"
     ]
    }
   ],
   "source": [
    "#方法2:用falt把它攤平\n",
    "%timeit -n 10 a = 2\n",
    "\n",
    "Z_method2 = []\n",
    "\n",
    "for i in Z.flat:\n",
    "    Z_method2.append(i+1)\n",
    "\n",
    "Z_method2_array = np.array(Z_method2, dtype = int).reshape(100,100,100)\n",
    "print(Z[0,0,0])\n",
    "print(Z_method2_array[0,0,0])"
   ]
  },
  {
   "cell_type": "code",
   "execution_count": 29,
   "metadata": {},
   "outputs": [
    {
     "name": "stdout",
     "output_type": "stream",
     "text": [
      "319 ns ± 82.2 ns per loop (mean ± std. dev. of 7 runs, 10 loops each)\n",
      "6\n",
      "7\n"
     ]
    }
   ],
   "source": [
    "#方法3:nditer\n",
    "%timeit -n 10 a = 2\n",
    "\n",
    "Z_method3 = []\n",
    "\n",
    "for i in np.nditer(Z, order = 'C'):\n",
    "    Z_method3.append(i+1)\n",
    "\n",
    "Z_method3_array = np.array(Z_method3, dtype = int).reshape(100,100,100)\n",
    "print(Z[0,0,0])\n",
    "print(Z_method2_array[0,0,0])"
   ]
  },
  {
   "cell_type": "code",
   "execution_count": 30,
   "metadata": {},
   "outputs": [
    {
     "name": "stdout",
     "output_type": "stream",
     "text": [
      "[3 2 5 8 5 5 4 6 8 4]\n",
      "出現頻率最高的值為: 3\n"
     ]
    }
   ],
   "source": [
    "#如何從一個陣列中，找出出現頻率最高的數值與位置？\n",
    "#2. 如何從一個陣列中，找出出現頻率最高的數值與位置？\n",
    "\n",
    "Z = np.random.randint(0,10,50)\n",
    "\n",
    "Z_bincount = np.bincount(Z) # 找0~序列最大值在array中出現的次數\n",
    "print(Z_bincount)\n",
    "Z_index = np.argmax(Z_bincount)\n",
    "Z_index\n",
    "print(\"出現頻率最高的值為:\", Z_index)"
   ]
  },
  {
   "cell_type": "code",
   "execution_count": 31,
   "metadata": {},
   "outputs": [
    {
     "name": "stdout",
     "output_type": "stream",
     "text": [
      "[5, 2, 7, 4, 7, 1]\n",
      "[5, 2, 7, 4, 7, 1]\n",
      "[[5, 8, 1, 1], [4, 7, 9, 4], [2, 9, 9, 8]]\n",
      "[array([5, 8, 1, 1]), array([4, 7, 9, 4]), array([2, 9, 9, 8])]\n",
      "[[[2, 5], [9, 2], [1, 0]], [[3, 0], [4, 7], [0, 2]]]\n",
      "[array([[2, 5],\n",
      "       [9, 2],\n",
      "       [1, 0]]), array([[3, 0],\n",
      "       [4, 7],\n",
      "       [0, 2]])]\n"
     ]
    }
   ],
   "source": [
    "#如何利用 list(...) 實現 a.tolist() 的效果？試著用程式實作。\n",
    "a = np.random.randint(10, size=6) \n",
    "\n",
    "print(a.tolist())\n",
    "print(list(a))\n",
    "\n",
    "\n",
    "b = np.random.randint(10, size=(3,4)) \n",
    "\n",
    "print(b.tolist())\n",
    "print(list(b))\n",
    "\n",
    "\n",
    "c = np.random.randint(10, size=(2,3,2)) \n",
    "\n",
    "print(c.tolist())\n",
    "print(list(c))"
   ]
  },
  {
   "cell_type": "code",
   "execution_count": 35,
   "metadata": {},
   "outputs": [
    {
     "name": "stdout",
     "output_type": "stream",
     "text": [
      "[[1. 0.]\n",
      " [0. 1.]]\n",
      "eigen value:  [13.  2.]\n",
      "eigen vector:  [[ 0.93632918 -0.70710678]\n",
      " [ 0.35112344  0.70710678]]\n",
      "[[-0.91663818 -0.39971796]\n",
      " [-0.39971796  0.91663818]]\n",
      "[13.94721714  1.86417116]\n",
      "[[-0.74319741 -0.6690722 ]\n",
      " [-0.6690722   0.74319741]]\n"
     ]
    }
   ],
   "source": [
    "#1運用上列array計算反矩陣，乘上原矩陣，並觀察是否為單位矩陣?\n",
    "array1 = np.array([[10, 8], [3, 5]])\n",
    "array1_inv = np.linalg.inv(array1)\n",
    "ans = array1 @ array1_inv\n",
    "print(ans)\n",
    "\n",
    "#2運用上列array計算特徵值、特徵向量?\n",
    "eigen = np.linalg.eig(array1)\n",
    "print(\"eigen value: \", eigen[0])\n",
    "print(\"eigen vector: \", eigen[1])\n",
    "\n",
    "#3運用上列array計算SVD?\n",
    "u, s, vh = np.linalg.svd(array1)\n",
    "print(u)\n",
    "print(s)\n",
    "print(vh)"
   ]
  },
  {
   "cell_type": "code",
   "execution_count": null,
   "metadata": {},
   "outputs": [],
   "source": []
  }
 ],
 "metadata": {
  "kernelspec": {
   "display_name": "Python 3",
   "language": "python",
   "name": "python3"
  },
  "language_info": {
   "codemirror_mode": {
    "name": "ipython",
    "version": 3
   },
   "file_extension": ".py",
   "mimetype": "text/x-python",
   "name": "python",
   "nbconvert_exporter": "python",
   "pygments_lexer": "ipython3",
   "version": "3.8.5"
  }
 },
 "nbformat": 4,
 "nbformat_minor": 4
}
